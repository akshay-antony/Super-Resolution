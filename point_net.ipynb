{
 "cells": [
  {
   "cell_type": "code",
   "execution_count": 1,
   "id": "cfe92c73",
   "metadata": {},
   "outputs": [],
   "source": [
    "import torch\n",
    "import torch.nn as nn\n",
    "import numpy as np\n",
    "import torch.nn.functional as F"
   ]
  },
  {
   "cell_type": "code",
   "execution_count": 2,
   "id": "3574a540",
   "metadata": {},
   "outputs": [],
   "source": [
    "class PointNetConv(nn.Module):\n",
    "    def __init__(self, in_features, out_features, kernel_size=(3,3), padding=(1,1), stride=(1,1)):\n",
    "        super(PointNetConv, self).__init__()\n",
    "        self.kernel_size = kernel_size\n",
    "        self.padding = padding\n",
    "        self.stride = stride\n",
    "        self.out_features = out_features\n",
    "        self.in_features = in_features\n",
    "        self.weights = nn.Parameter(data=torch.Tensor(1, 1, out_features, 4), requires_grad=True)\n",
    "        \n",
    "    def forward(self, x=None, X=None, A=None, E=None, M=None):\n",
    "        unfolded_x = F.unfold(x, self.kernel_size, self.padding, self.stride)\n",
    "        unfolded_X = F.unfold(X, self.kernel_size, self.padding, self.stride)\n",
    "        unfolded_A = F.unfold(A, self.kernel_size, self.padding, self.stride)\n",
    "        unfolded_E = F.unfold(E, self.kernel_size, self.padding, self.stride)\n",
    "        X_c = X.view(X.shape[0], X.shape[1], -1)\n",
    "        A_c = A.view(A.shape[0], A.shape[1], -1)\n",
    "        E_c = E.view(E.shape[0], E.shape[1], -1)\n",
    "        \n",
    "        X_c = torch.repeat_interleave(X_c, self.kernel_size[0]*self.kernel_size[1], 1)\n",
    "        A_c = torch.repeat_interleave(A_c, self.kernel_size[0]*self.kernel_size[1], 1)\n",
    "        E_c = torch.repeat_interleave(E_c, self.kernel_size[0]*self.kernel_size[1], 1)\n",
    "        print(X_c.shape)\n",
    "        x_ = unfolded_x.permute((0,2,1)).unsqueeze(3)\n",
    "        X_ = (unfolded_X - X_c).permute((0,2,1)).unsqueeze(3)\n",
    "        A_ = (unfolded_A - A_c).permute((0,2,1)).unsqueeze(3)\n",
    "        E_ = (unfolded_E - E_c).permute((0,2,1)).unsqueeze(3)\n",
    "        print(x_.shape, X_.shape, A_.shape)\n",
    "        total_features = torch.cat([x_, X_, A_, E_], axis=3)\n",
    "        \n",
    "        weights = torch.repeat_interleave(self.weights, self.kernel_size[0]*self.kernel_size[1], 2)\n",
    "        total_features = torch.repeat_interleave(total_features, self.out_features // self.in_features, 2)\n",
    "        print(total_features.shape, weights.shape)\n",
    "        total_features = weights * total_features\n",
    "        print(total_features.shape)\n",
    "        total_features = torch.sum(total_features, axis=3)\n",
    "        print(total_features.shape)\n",
    "        total_features = total_features.view(total_features.shape[0], total_features.shape[1], -1, 9)\n",
    "        print(total_features.shape)\n",
    "        total_features, _ = torch.max(total_features, dim=3, keepdim=True)\n",
    "        total_features = total_features.squeeze(3)\n",
    "        print(total_features.shape)\n",
    "        total_features = total_features.permute((0,2,1))\n",
    "        total_features = total_features.view(total_features.shape[0],total_features.shape[1],x.shape[2],-1)\n",
    "        print(total_features.shape)"
   ]
  },
  {
   "cell_type": "code",
   "execution_count": 7,
   "id": "9ca66c79",
   "metadata": {},
   "outputs": [
    {
     "name": "stdout",
     "output_type": "stream",
     "text": [
      "torch.Size([8, 1152, 1024])\n",
      "torch.Size([8, 1024, 1152, 1]) torch.Size([8, 1024, 1152, 1]) torch.Size([8, 1024, 1152, 1])\n",
      "torch.Size([8, 1024, 2304, 4]) torch.Size([1, 1, 2304, 4])\n",
      "torch.Size([8, 1024, 2304, 4])\n",
      "torch.Size([8, 1024, 2304])\n",
      "torch.Size([8, 1024, 256, 9])\n",
      "torch.Size([8, 1024, 256])\n",
      "torch.Size([8, 256, 8, 128])\n"
     ]
    }
   ],
   "source": [
    "point_net = PointNetConv(in_features=128, out_features=256)\n",
    "x = torch.randint(0,10,(8,128,8,128),dtype=torch.float32)\n",
    "X = torch.randint(0,10,(8,128,8,128),dtype=torch.float32)\n",
    "A = torch.randint(0,10,(8,128,8,128),dtype=torch.float32)\n",
    "E = torch.randint(0,10,(8,128,8,128),dtype=torch.float32)\n",
    "point_net.forward(x, X, A, E)"
   ]
  },
  {
   "cell_type": "code",
   "execution_count": null,
   "id": "291e95ef",
   "metadata": {},
   "outputs": [],
   "source": [
    "point_net = PointNetConv(in_features=64, out_features=128)\n",
    "x = torch.randint(0,10,(2,64,16,128),dtype=torch.float32)\n",
    "X = torch.randint(0,10,(2,64,16,128),dtype=torch.float32)\n",
    "A = torch.randint(0,10,(2,64,16,128),dtype=torch.float32)\n",
    "E = torch.randint(0,10,(2,64,16,128),dtype=torch.float32)\n",
    "point_net.forward(x, X, A, E)"
   ]
  }
 ],
 "metadata": {
  "kernelspec": {
   "display_name": "Python 3 (ipykernel)",
   "language": "python",
   "name": "python3"
  },
  "language_info": {
   "codemirror_mode": {
    "name": "ipython",
    "version": 3
   },
   "file_extension": ".py",
   "mimetype": "text/x-python",
   "name": "python",
   "nbconvert_exporter": "python",
   "pygments_lexer": "ipython3",
   "version": "3.8.12"
  }
 },
 "nbformat": 4,
 "nbformat_minor": 5
}
