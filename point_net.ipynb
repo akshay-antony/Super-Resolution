{
 "cells": [
  {
   "cell_type": "code",
   "execution_count": 1,
   "id": "cfe92c73",
   "metadata": {},
   "outputs": [],
   "source": [
    "import torch\n",
    "import torch.nn as nn\n",
    "import numpy as np\n",
    "import torch.nn.functional as F"
   ]
  },
  {
   "cell_type": "code",
   "execution_count": 39,
   "id": "3574a540",
   "metadata": {},
   "outputs": [],
   "source": [
    "class PointNetConv(nn.Module):\n",
    "    def __init__(self, in_features, out_features, kernel_size=(3,3), padding=(1,1), stride=(1,1)):\n",
    "        super(PointNetConv, self).__init__()\n",
    "        self.kernel_size = kernel_size\n",
    "        self.padding = padding\n",
    "        self.stride = stride\n",
    "        self.out_features = out_features\n",
    "        self.in_features = in_features\n",
    "        self.weights = nn.Parameter(data=torch.Tensor(1, 1, out_features, 4), requires_grad=True)\n",
    "        self.layer = nn.Conv1d(in_features, out_features, 1)\n",
    "        \n",
    "    def forward(self, x=None, X=None, A=None, E=None, M=None):\n",
    "        unfolded_x = F.unfold(x, self.kernel_size, self.padding, self.stride)\n",
    "        unfolded_X = F.unfold(X, self.kernel_size, self.padding, self.stride)\n",
    "        unfolded_A = F.unfold(A, self.kernel_size, self.padding, self.stride)\n",
    "        unfolded_E = F.unfold(E, self.kernel_size, self.padding, self.stride)\n",
    "        unfolded_M = F.unfold(M, self.kernel_size, self.padding, self.stride)\n",
    "\n",
    "        print(unfolded_x.shape)\n",
    "        X_c = X.view(X.shape[0], X.shape[1], -1)\n",
    "        A_c = A.view(A.shape[0], A.shape[1], -1)\n",
    "        E_c = E.view(E.shape[0], E.shape[1], -1)\n",
    "        M_c = M.view(M.shape[0], M.shape[1], -1)\n",
    "\n",
    "        X_c = torch.repeat_interleave(X_c, self.kernel_size[0]*self.kernel_size[1], 1)\n",
    "        A_c = torch.repeat_interleave(A_c, self.kernel_size[0]*self.kernel_size[1], 1)\n",
    "        E_c = torch.repeat_interleave(E_c, self.kernel_size[0]*self.kernel_size[1], 1)\n",
    "        M_c = torch.repeat_interleave(M_c, self.kernel_size[0]*self.kernel_size[1], 1)\n",
    "        print(X_c.shape)\n",
    "        \n",
    "        x_ = unfolded_x.unsqueeze(3)           #.permute((0,2,1)).unsqueeze(3)\n",
    "        X_ = (unfolded_X - X_c).unsqueeze(-1)  #.permute((0,2,1)).unsqueeze(3)\n",
    "        A_ = (unfolded_A - A_c).unsqueeze(-1)  #.permute((0,2,1)).unsqueeze(3)\n",
    "        E_ = (unfolded_E - E_c).unsqueeze(-1)  #.permute((0,2,1)).unsqueeze(3)\n",
    "\n",
    "        ####\n",
    "        first_feature = x_ * torch.cos(A_) * torch.cos(E_) - X_c.unsqueeze(-1)\n",
    "        second_feature = x_ * torch.cos(A_) * torch.sin(E_)\n",
    "        third_feature = x_ * torch.sin(A_)\n",
    "\n",
    "        M_valid = M_c * unfolded_M\n",
    "        M_valid = M_valid.unsqueeze(1)\n",
    "        print(M_valid.shape)\n",
    "        ####\n",
    "\n",
    "        print(x_.shape,first_feature.shape)\n",
    "        total_features = torch.cat([x_, \n",
    "                                    first_feature, \n",
    "                                    second_feature, \n",
    "                                    third_feature], axis=3)\n",
    "                        \n",
    "        total_features = total_features.permute((0, 3, 1, 2)) \n",
    "        total_features_flattened = total_features.reshape((total_features.shape[0], total_features.shape[1], -1))\n",
    "        out = self.layer(total_features_flattened)\n",
    "        out = out.reshape((total_features.shape[0],\n",
    "                           out.shape[1],\n",
    "                           total_features.shape[2],\n",
    "                           total_features.shape[3]))\n",
    "        print(out.shape)\n",
    "        out = out * M_valid\n",
    "        out = torch.max(out, dim=2)[0].reshape(out.shape[0],\n",
    "                                               out.shape[1],\n",
    "                                               x.shape[2],\n",
    "                                               x.shape[3])\n",
    "        #out = out * M_valid\n",
    "        print(out.shape)\n",
    "        \n",
    "        # weights = torch.repeat_interleave(self.weights, self.kernel_size[0]*self.kernel_size[1], 2)\n",
    "        # total_features = torch.repeat_interleave(total_features, self.out_features // self.in_features, 2)\n",
    "        # print(total_features.shape, weights.shape)\n",
    "        # total_features = weights * total_features\n",
    "        # print(total_features.shape)\n",
    "        # total_features = torch.sum(total_features, axis=3)\n",
    "        # print(total_features.shape)\n",
    "        # total_features = total_features.view(total_features.shape[0], total_features.shape[1], -1, 9)\n",
    "        # print(total_features.shape)\n",
    "        # total_features, _ = torch.max(total_features, dim=3, keepdim=True)\n",
    "        # total_features = total_features.squeeze(3)\n",
    "        # print(total_features.shape)\n",
    "        # total_features = total_features.permute((0,2,1))\n",
    "        # total_features = total_features.view(total_features.shape[0],total_features.shape[1],x.shape[2],-1)\n",
    "        # print(total_features.shape)"
   ]
  },
  {
   "cell_type": "code",
   "execution_count": 40,
   "id": "9ca66c79",
   "metadata": {},
   "outputs": [
    {
     "name": "stdout",
     "output_type": "stream",
     "text": [
      "torch.Size([8, 9, 16384])\n",
      "torch.Size([8, 9, 16384])\n",
      "torch.Size([8, 1, 9, 16384])\n",
      "torch.Size([8, 9, 16384, 1]) torch.Size([8, 9, 16384, 1])\n",
      "torch.Size([8, 64, 9, 16384])\n",
      "torch.Size([8, 64, 16, 1024])\n"
     ]
    }
   ],
   "source": [
    "point_net = PointNetConv(in_features=4, out_features=64)\n",
    "x = torch.randint(0,10,(8,1,16,1024), dtype=torch.float32)\n",
    "X = torch.randint(0,10,(8,1,16,1024), dtype=torch.float32)\n",
    "A = torch.randint(0,10,(8,1,16,1024), dtype=torch.float32)\n",
    "E = torch.randint(0,10,(8,1,16,1024), dtype=torch.float32)\n",
    "M = torch.randint(0,10,(8,1,16,1024), dtype=torch.float32)\n",
    "point_net.forward(x, X, A, E, M)"
   ]
  },
  {
   "cell_type": "code",
   "execution_count": null,
   "id": "291e95ef",
   "metadata": {},
   "outputs": [],
   "source": [
    "point_net = PointNetConv(in_features=64, out_features=128)\n",
    "x = torch.randint(0,10,(2,64,16,128),dtype=torch.float32)\n",
    "X = torch.randint(0,10,(2,64,16,128),dtype=torch.float32)\n",
    "A = torch.randint(0,10,(2,64,16,128),dtype=torch.float32)\n",
    "E = torch.randint(0,10,(2,64,16,128),dtype=torch.float32)\n",
    "point_net.forward(x, X, A, E)"
   ]
  }
 ],
 "metadata": {
  "kernelspec": {
   "display_name": "Python 3 (ipykernel)",
   "language": "python",
   "name": "python3"
  },
  "language_info": {
   "codemirror_mode": {
    "name": "ipython",
    "version": 3
   },
   "file_extension": ".py",
   "mimetype": "text/x-python",
   "name": "python",
   "nbconvert_exporter": "python",
   "pygments_lexer": "ipython3",
   "version": "3.9.7"
  }
 },
 "nbformat": 4,
 "nbformat_minor": 5
}
