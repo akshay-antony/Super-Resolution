{
 "cells": [
  {
   "cell_type": "code",
   "execution_count": 18,
   "id": "a95cbdb7",
   "metadata": {},
   "outputs": [
    {
     "name": "stdout",
     "output_type": "stream",
     "text": [
      "The autoreload extension is already loaded. To reload it, use:\n",
      "  %reload_ext autoreload\n"
     ]
    }
   ],
   "source": [
    "import cv2\n",
    "%load_ext autoreload\n",
    "%autoreload 2\n",
    "import numpy as np\n",
    "import torch\n",
    "from torch_model import Network, Network_org, densenet, Network_1024, Network_1024_without_bev"
   ]
  },
  {
   "cell_type": "code",
   "execution_count": 19,
   "id": "debf1f0d",
   "metadata": {},
   "outputs": [],
   "source": [
    "model = Network_org()"
   ]
  },
  {
   "cell_type": "code",
   "execution_count": 22,
   "id": "758d845b",
   "metadata": {},
   "outputs": [
    {
     "name": "stdout",
     "output_type": "stream",
     "text": [
      "torch.Size([3, 1024, 4, 16]) torch.Size([3, 1024, 4, 16])\n",
      "torch.Size([3, 256, 16, 128]) torch.Size([3, 256, 16, 128])\n"
     ]
    },
    {
     "data": {
      "text/plain": [
       "torch.Size([3, 1, 64, 1024])"
      ]
     },
     "execution_count": 22,
     "metadata": {},
     "output_type": "execute_result"
    }
   ],
   "source": [
    "x = torch.rand((3, 1, 16, 1024))\n",
    "y = model(x)\n",
    "y.shape"
   ]
  },
  {
   "cell_type": "code",
   "execution_count": 2,
   "id": "b29a6968",
   "metadata": {},
   "outputs": [
    {
     "data": {
      "text/plain": [
       "49"
      ]
     },
     "execution_count": 2,
     "metadata": {},
     "output_type": "execute_result"
    }
   ],
   "source": [
    "locations = []\n",
    "\n",
    "for i in range(28, 224, 28):\n",
    "    for j in range(28, 224, 28):\n",
    "        locations.append([i,j])\n",
    "len(locations)"
   ]
  },
  {
   "cell_type": "code",
   "execution_count": 3,
   "id": "d51b8694",
   "metadata": {},
   "outputs": [
    {
     "ename": "FileNotFoundError",
     "evalue": "[Errno 2] No such file or directory: '/home/akshay/bag/bev_64_np/2362.041642299.npy'",
     "output_type": "error",
     "traceback": [
      "\u001b[0;31m---------------------------------------------------------------------------\u001b[0m",
      "\u001b[0;31mFileNotFoundError\u001b[0m                         Traceback (most recent call last)",
      "\u001b[0;32m/tmp/ipykernel_428555/2234644789.py\u001b[0m in \u001b[0;36m<module>\u001b[0;34m\u001b[0m\n\u001b[0;32m----> 1\u001b[0;31m \u001b[0mimage\u001b[0m \u001b[0;34m=\u001b[0m \u001b[0mnp\u001b[0m\u001b[0;34m.\u001b[0m\u001b[0mload\u001b[0m\u001b[0;34m(\u001b[0m\u001b[0;34m\"/home/akshay/bag/bev_64_np/2362.041642299.npy\"\u001b[0m\u001b[0;34m)\u001b[0m\u001b[0;34m\u001b[0m\u001b[0;34m\u001b[0m\u001b[0m\n\u001b[0m\u001b[1;32m      2\u001b[0m \u001b[0;31m#image *= 100.\u001b[0m\u001b[0;34m\u001b[0m\u001b[0;34m\u001b[0m\u001b[0;34m\u001b[0m\u001b[0m\n\u001b[1;32m      3\u001b[0m \u001b[0mcv2\u001b[0m\u001b[0;34m.\u001b[0m\u001b[0mimshow\u001b[0m\u001b[0;34m(\u001b[0m\u001b[0;34m\"k\"\u001b[0m\u001b[0;34m,\u001b[0m\u001b[0mimage\u001b[0m\u001b[0;34m)\u001b[0m\u001b[0;34m\u001b[0m\u001b[0;34m\u001b[0m\u001b[0m\n\u001b[1;32m      4\u001b[0m \u001b[0mcv2\u001b[0m\u001b[0;34m.\u001b[0m\u001b[0mwaitKey\u001b[0m\u001b[0;34m(\u001b[0m\u001b[0;36m0\u001b[0m\u001b[0;34m)\u001b[0m\u001b[0;34m\u001b[0m\u001b[0;34m\u001b[0m\u001b[0m\n",
      "\u001b[0;32m~/anaconda3/envs/pytorch3d/lib/python3.8/site-packages/numpy/lib/npyio.py\u001b[0m in \u001b[0;36mload\u001b[0;34m(file, mmap_mode, allow_pickle, fix_imports, encoding)\u001b[0m\n\u001b[1;32m    415\u001b[0m             \u001b[0mown_fid\u001b[0m \u001b[0;34m=\u001b[0m \u001b[0;32mFalse\u001b[0m\u001b[0;34m\u001b[0m\u001b[0;34m\u001b[0m\u001b[0m\n\u001b[1;32m    416\u001b[0m         \u001b[0;32melse\u001b[0m\u001b[0;34m:\u001b[0m\u001b[0;34m\u001b[0m\u001b[0;34m\u001b[0m\u001b[0m\n\u001b[0;32m--> 417\u001b[0;31m             \u001b[0mfid\u001b[0m \u001b[0;34m=\u001b[0m \u001b[0mstack\u001b[0m\u001b[0;34m.\u001b[0m\u001b[0menter_context\u001b[0m\u001b[0;34m(\u001b[0m\u001b[0mopen\u001b[0m\u001b[0;34m(\u001b[0m\u001b[0mos_fspath\u001b[0m\u001b[0;34m(\u001b[0m\u001b[0mfile\u001b[0m\u001b[0;34m)\u001b[0m\u001b[0;34m,\u001b[0m \u001b[0;34m\"rb\"\u001b[0m\u001b[0;34m)\u001b[0m\u001b[0;34m)\u001b[0m\u001b[0;34m\u001b[0m\u001b[0;34m\u001b[0m\u001b[0m\n\u001b[0m\u001b[1;32m    418\u001b[0m             \u001b[0mown_fid\u001b[0m \u001b[0;34m=\u001b[0m \u001b[0;32mTrue\u001b[0m\u001b[0;34m\u001b[0m\u001b[0;34m\u001b[0m\u001b[0m\n\u001b[1;32m    419\u001b[0m \u001b[0;34m\u001b[0m\u001b[0m\n",
      "\u001b[0;31mFileNotFoundError\u001b[0m: [Errno 2] No such file or directory: '/home/akshay/bag/bev_64_np/2362.041642299.npy'"
     ]
    }
   ],
   "source": [
    "image = np.load(\"/home/akshay/bag/bev_64_np/2362.041642299.npy\")\n",
    "#image *= 100.\n",
    "cv2.imshow(\"k\",image)\n",
    "cv2.waitKey(0)"
   ]
  },
  {
   "cell_type": "code",
   "execution_count": null,
   "id": "e0e93b1b",
   "metadata": {},
   "outputs": [],
   "source": [
    "x = np.load(\"/home/akshay/bag/range_16/1000.041622004.npy\")\n",
    "print(np.sum(x != 0))\n",
    "x = np.uint8(x*255)\n",
    "y = np.load(\"/home/akshay/bag/range_64_/1000.041622004.npy\")\n",
    "print(np.sum(y != 0))\n",
    "y = np.uint8(y*255)\n",
    "\n",
    "cv2.imshow(\"hi\", x)\n",
    "cv2.imshow(\"k\", y)\n",
    "cv2.waitKey(0)"
   ]
  },
  {
   "cell_type": "code",
   "execution_count": null,
   "id": "5c3b5c97",
   "metadata": {},
   "outputs": [],
   "source": [
    "checkpoint = torch.load(\"/home/akshay/python_carla/weights/checkpoint_dec_4.pth\")"
   ]
  },
  {
   "cell_type": "code",
   "execution_count": null,
   "id": "1c19e8c9",
   "metadata": {},
   "outputs": [],
   "source": [
    "model_main = Network_1024()\n",
    "model_main.eval()\n",
    "model_main.load_state_dict(checkpoint['state_dict'])\n",
    "bev_model = densenet()\n",
    "bev_model.eval()\n",
    "x = np.load(\"/home/akshay/bag/range_16_1024/1000.041622004.npy\")\n",
    "y = np.load(\"/home/akshay/bag/bev_16_np/1000.041622004.npy\")\n",
    "org = np.load(\"/home/akshay/bag/range_64_1024/1000.041622004.npy\")\n",
    "org = np.expand_dims(org, axis=0)\n",
    "bev = np.tile(y, (3,1,1))\n",
    "print(np.sum(bev != 0))\n",
    "bev = torch.from_numpy(bev)\n",
    "\n",
    "range_image_16 = np.expand_dims(x, axis=0)\n",
    "print(np.sum(range_image_16 != 0))\n",
    "range_image_16 = torch.from_numpy(range_image_16)\n",
    "range_image_16 = torch.unsqueeze(range_image_16, axis=0)\n",
    "bev = torch.unsqueeze(bev, axis=0)\n",
    "\n",
    "feature = bev_model(bev)\n",
    "print(torch.sum(feature != 0).item())\n",
    "out = model_main(range_image_16, feature)\n",
    "out = out.detach().numpy()\n",
    "print(np.max(out))\n",
    "\n",
    "out = np.concatenate([out[0],org], axis=0)\n",
    "print(out.shape, np.max(org))\n",
    "np.save(\"/home/akshay/python_carla/please.npy\",out )"
   ]
  },
  {
   "cell_type": "code",
   "execution_count": null,
   "id": "9d1405a6",
   "metadata": {},
   "outputs": [],
   "source": [
    "checkpoint = torch.load(\"/home/akshay/python_carla/weights/checkpoint_dec_3.pth\")"
   ]
  },
  {
   "cell_type": "code",
   "execution_count": null,
   "id": "cc887dc2",
   "metadata": {},
   "outputs": [],
   "source": [
    "model_main = Network_1024_without_bev()\n",
    "model_main.eval()\n",
    "model_main.load_state_dict(checkpoint['state_dict'])\n",
    "\n",
    "x = np.load(\"/home/akshay/bag/range_16_1024/1000.041622004.npy\")\n",
    "org = np.load(\"/home/akshay/bag/range_64_1024/1000.041622004.npy\")\n",
    "org = np.expand_dims(org, axis=0)\n",
    "\n",
    "range_image_16 = np.expand_dims(x, axis=0)\n",
    "print(np.sum(range_image_16 != 0))\n",
    "range_image_16 = torch.from_numpy(range_image_16)\n",
    "range_image_16 = torch.unsqueeze(range_image_16, axis=0)\n",
    "\n",
    "print(torch.sum(feature != 0).item())\n",
    "out = model_main(range_image_16)\n",
    "out = out.detach().numpy()\n",
    "print(np.max(out))\n",
    "\n",
    "out = np.concatenate([out[0],org], axis=0)\n",
    "print(out.shape, np.max(org))\n",
    "np.save(\"/home/akshay/python_carla/please.npy\",out )"
   ]
  },
  {
   "cell_type": "code",
   "execution_count": null,
   "id": "69f350ee",
   "metadata": {},
   "outputs": [],
   "source": [
    "please = np.load(\"/home/akshay/python_carla/please.npy\")\n",
    "please.shape"
   ]
  },
  {
   "cell_type": "code",
   "execution_count": null,
   "id": "86e9a574",
   "metadata": {},
   "outputs": [],
   "source": [
    "data = np.load(\"/home/akshay/Downloads/carla_ouster_range_image.npy\")"
   ]
  },
  {
   "cell_type": "code",
   "execution_count": null,
   "id": "b09d2e44",
   "metadata": {},
   "outputs": [],
   "source": [
    "data.shape"
   ]
  },
  {
   "cell_type": "code",
   "execution_count": null,
   "id": "23eb2924",
   "metadata": {},
   "outputs": [],
   "source": [
    "for i in range(data.shape[0]):\n",
    "    im = data[i]\n",
    "    im = np.uint8(im)\n",
    "    cv2.imshow(\"f\",im)\n",
    "    cv2.waitKey(5)"
   ]
  },
  {
   "cell_type": "code",
   "execution_count": 4,
   "id": "05726378",
   "metadata": {},
   "outputs": [
    {
     "name": "stderr",
     "output_type": "stream",
     "text": [
      "QObject::moveToThread: Current thread (0x5556e1f09ec0) is not the object's thread (0x5556e1fa69d0).\n",
      "Cannot move to target thread (0x5556e1f09ec0)\n",
      "\n",
      "QObject::moveToThread: Current thread (0x5556e1f09ec0) is not the object's thread (0x5556e1fa69d0).\n",
      "Cannot move to target thread (0x5556e1f09ec0)\n",
      "\n",
      "QObject::moveToThread: Current thread (0x5556e1f09ec0) is not the object's thread (0x5556e1fa69d0).\n",
      "Cannot move to target thread (0x5556e1f09ec0)\n",
      "\n",
      "QObject::moveToThread: Current thread (0x5556e1f09ec0) is not the object's thread (0x5556e1fa69d0).\n",
      "Cannot move to target thread (0x5556e1f09ec0)\n",
      "\n",
      "QObject::moveToThread: Current thread (0x5556e1f09ec0) is not the object's thread (0x5556e1fa69d0).\n",
      "Cannot move to target thread (0x5556e1f09ec0)\n",
      "\n",
      "QObject::moveToThread: Current thread (0x5556e1f09ec0) is not the object's thread (0x5556e1fa69d0).\n",
      "Cannot move to target thread (0x5556e1f09ec0)\n",
      "\n",
      "QObject::moveToThread: Current thread (0x5556e1f09ec0) is not the object's thread (0x5556e1fa69d0).\n",
      "Cannot move to target thread (0x5556e1f09ec0)\n",
      "\n",
      "QObject::moveToThread: Current thread (0x5556e1f09ec0) is not the object's thread (0x5556e1fa69d0).\n",
      "Cannot move to target thread (0x5556e1f09ec0)\n",
      "\n",
      "QObject::moveToThread: Current thread (0x5556e1f09ec0) is not the object's thread (0x5556e1fa69d0).\n",
      "Cannot move to target thread (0x5556e1f09ec0)\n",
      "\n",
      "QObject::moveToThread: Current thread (0x5556e1f09ec0) is not the object's thread (0x5556e1fa69d0).\n",
      "Cannot move to target thread (0x5556e1f09ec0)\n",
      "\n",
      "QObject::moveToThread: Current thread (0x5556e1f09ec0) is not the object's thread (0x5556e1fa69d0).\n",
      "Cannot move to target thread (0x5556e1f09ec0)\n",
      "\n",
      "QObject::moveToThread: Current thread (0x5556e1f09ec0) is not the object's thread (0x5556e1fa69d0).\n",
      "Cannot move to target thread (0x5556e1f09ec0)\n",
      "\n",
      "QObject::moveToThread: Current thread (0x5556e1f09ec0) is not the object's thread (0x5556e1fa69d0).\n",
      "Cannot move to target thread (0x5556e1f09ec0)\n",
      "\n",
      "QObject::moveToThread: Current thread (0x5556e1f09ec0) is not the object's thread (0x5556e1fa69d0).\n",
      "Cannot move to target thread (0x5556e1f09ec0)\n",
      "\n",
      "QObject::moveToThread: Current thread (0x5556e1f09ec0) is not the object's thread (0x5556e1fa69d0).\n",
      "Cannot move to target thread (0x5556e1f09ec0)\n",
      "\n",
      "QObject::moveToThread: Current thread (0x5556e1f09ec0) is not the object's thread (0x5556e1fa69d0).\n",
      "Cannot move to target thread (0x5556e1f09ec0)\n",
      "\n",
      "QObject::moveToThread: Current thread (0x5556e1f09ec0) is not the object's thread (0x5556e1fa69d0).\n",
      "Cannot move to target thread (0x5556e1f09ec0)\n",
      "\n",
      "QObject::moveToThread: Current thread (0x5556e1f09ec0) is not the object's thread (0x5556e1fa69d0).\n",
      "Cannot move to target thread (0x5556e1f09ec0)\n",
      "\n",
      "QObject::moveToThread: Current thread (0x5556e1f09ec0) is not the object's thread (0x5556e1fa69d0).\n",
      "Cannot move to target thread (0x5556e1f09ec0)\n",
      "\n",
      "QObject::moveToThread: Current thread (0x5556e1f09ec0) is not the object's thread (0x5556e1fa69d0).\n",
      "Cannot move to target thread (0x5556e1f09ec0)\n",
      "\n",
      "QObject::moveToThread: Current thread (0x5556e1f09ec0) is not the object's thread (0x5556e1fa69d0).\n",
      "Cannot move to target thread (0x5556e1f09ec0)\n",
      "\n",
      "QObject::moveToThread: Current thread (0x5556e1f09ec0) is not the object's thread (0x5556e1fa69d0).\n",
      "Cannot move to target thread (0x5556e1f09ec0)\n",
      "\n",
      "QObject::moveToThread: Current thread (0x5556e1f09ec0) is not the object's thread (0x5556e1fa69d0).\n",
      "Cannot move to target thread (0x5556e1f09ec0)\n",
      "\n",
      "QObject::moveToThread: Current thread (0x5556e1f09ec0) is not the object's thread (0x5556e1fa69d0).\n",
      "Cannot move to target thread (0x5556e1f09ec0)\n",
      "\n",
      "QObject::moveToThread: Current thread (0x5556e1f09ec0) is not the object's thread (0x5556e1fa69d0).\n",
      "Cannot move to target thread (0x5556e1f09ec0)\n",
      "\n",
      "QObject::moveToThread: Current thread (0x5556e1f09ec0) is not the object's thread (0x5556e1fa69d0).\n",
      "Cannot move to target thread (0x5556e1f09ec0)\n",
      "\n",
      "QObject::moveToThread: Current thread (0x5556e1f09ec0) is not the object's thread (0x5556e1fa69d0).\n",
      "Cannot move to target thread (0x5556e1f09ec0)\n",
      "\n",
      "QObject::moveToThread: Current thread (0x5556e1f09ec0) is not the object's thread (0x5556e1fa69d0).\n",
      "Cannot move to target thread (0x5556e1f09ec0)\n",
      "\n",
      "QObject::moveToThread: Current thread (0x5556e1f09ec0) is not the object's thread (0x5556e1fa69d0).\n",
      "Cannot move to target thread (0x5556e1f09ec0)\n",
      "\n",
      "QObject::moveToThread: Current thread (0x5556e1f09ec0) is not the object's thread (0x5556e1fa69d0).\n",
      "Cannot move to target thread (0x5556e1f09ec0)\n",
      "\n",
      "QObject::moveToThread: Current thread (0x5556e1f09ec0) is not the object's thread (0x5556e1fa69d0).\n",
      "Cannot move to target thread (0x5556e1f09ec0)\n",
      "\n",
      "QObject::moveToThread: Current thread (0x5556e1f09ec0) is not the object's thread (0x5556e1fa69d0).\n",
      "Cannot move to target thread (0x5556e1f09ec0)\n",
      "\n",
      "QObject::moveToThread: Current thread (0x5556e1f09ec0) is not the object's thread (0x5556e1fa69d0).\n",
      "Cannot move to target thread (0x5556e1f09ec0)\n",
      "\n",
      "QObject::moveToThread: Current thread (0x5556e1f09ec0) is not the object's thread (0x5556e1fa69d0).\n",
      "Cannot move to target thread (0x5556e1f09ec0)\n",
      "\n",
      "QObject::moveToThread: Current thread (0x5556e1f09ec0) is not the object's thread (0x5556e1fa69d0).\n",
      "Cannot move to target thread (0x5556e1f09ec0)\n",
      "\n",
      "QObject::moveToThread: Current thread (0x5556e1f09ec0) is not the object's thread (0x5556e1fa69d0).\n",
      "Cannot move to target thread (0x5556e1f09ec0)\n",
      "\n",
      "QObject::moveToThread: Current thread (0x5556e1f09ec0) is not the object's thread (0x5556e1fa69d0).\n",
      "Cannot move to target thread (0x5556e1f09ec0)\n",
      "\n",
      "QObject::moveToThread: Current thread (0x5556e1f09ec0) is not the object's thread (0x5556e1fa69d0).\n",
      "Cannot move to target thread (0x5556e1f09ec0)\n",
      "\n",
      "QObject::moveToThread: Current thread (0x5556e1f09ec0) is not the object's thread (0x5556e1fa69d0).\n",
      "Cannot move to target thread (0x5556e1f09ec0)\n",
      "\n",
      "QObject::moveToThread: Current thread (0x5556e1f09ec0) is not the object's thread (0x5556e1fa69d0).\n",
      "Cannot move to target thread (0x5556e1f09ec0)\n",
      "\n",
      "QObject::moveToThread: Current thread (0x5556e1f09ec0) is not the object's thread (0x5556e1fa69d0).\n",
      "Cannot move to target thread (0x5556e1f09ec0)\n",
      "\n",
      "QObject::moveToThread: Current thread (0x5556e1f09ec0) is not the object's thread (0x5556e1fa69d0).\n",
      "Cannot move to target thread (0x5556e1f09ec0)\n",
      "\n",
      "QObject::moveToThread: Current thread (0x5556e1f09ec0) is not the object's thread (0x5556e1fa69d0).\n",
      "Cannot move to target thread (0x5556e1f09ec0)\n",
      "\n",
      "QObject::moveToThread: Current thread (0x5556e1f09ec0) is not the object's thread (0x5556e1fa69d0).\n",
      "Cannot move to target thread (0x5556e1f09ec0)\n",
      "\n",
      "QObject::moveToThread: Current thread (0x5556e1f09ec0) is not the object's thread (0x5556e1fa69d0).\n",
      "Cannot move to target thread (0x5556e1f09ec0)\n",
      "\n",
      "QObject::moveToThread: Current thread (0x5556e1f09ec0) is not the object's thread (0x5556e1fa69d0).\n",
      "Cannot move to target thread (0x5556e1f09ec0)\n",
      "\n",
      "QObject::moveToThread: Current thread (0x5556e1f09ec0) is not the object's thread (0x5556e1fa69d0).\n",
      "Cannot move to target thread (0x5556e1f09ec0)\n",
      "\n",
      "QObject::moveToThread: Current thread (0x5556e1f09ec0) is not the object's thread (0x5556e1fa69d0).\n",
      "Cannot move to target thread (0x5556e1f09ec0)\n",
      "\n",
      "QObject::moveToThread: Current thread (0x5556e1f09ec0) is not the object's thread (0x5556e1fa69d0).\n",
      "Cannot move to target thread (0x5556e1f09ec0)\n",
      "\n",
      "QObject::moveToThread: Current thread (0x5556e1f09ec0) is not the object's thread (0x5556e1fa69d0).\n",
      "Cannot move to target thread (0x5556e1f09ec0)\n",
      "\n",
      "QObject::moveToThread: Current thread (0x5556e1f09ec0) is not the object's thread (0x5556e1fa69d0).\n",
      "Cannot move to target thread (0x5556e1f09ec0)\n",
      "\n",
      "QObject::moveToThread: Current thread (0x5556e1f09ec0) is not the object's thread (0x5556e1fa69d0).\n",
      "Cannot move to target thread (0x5556e1f09ec0)\n",
      "\n",
      "QObject::moveToThread: Current thread (0x5556e1f09ec0) is not the object's thread (0x5556e1fa69d0).\n",
      "Cannot move to target thread (0x5556e1f09ec0)\n",
      "\n",
      "QObject::moveToThread: Current thread (0x5556e1f09ec0) is not the object's thread (0x5556e1fa69d0).\n",
      "Cannot move to target thread (0x5556e1f09ec0)\n",
      "\n",
      "QObject::moveToThread: Current thread (0x5556e1f09ec0) is not the object's thread (0x5556e1fa69d0).\n",
      "Cannot move to target thread (0x5556e1f09ec0)\n",
      "\n",
      "QObject::moveToThread: Current thread (0x5556e1f09ec0) is not the object's thread (0x5556e1fa69d0).\n",
      "Cannot move to target thread (0x5556e1f09ec0)\n",
      "\n",
      "QObject::moveToThread: Current thread (0x5556e1f09ec0) is not the object's thread (0x5556e1fa69d0).\n",
      "Cannot move to target thread (0x5556e1f09ec0)\n",
      "\n",
      "QObject::moveToThread: Current thread (0x5556e1f09ec0) is not the object's thread (0x5556e1fa69d0).\n",
      "Cannot move to target thread (0x5556e1f09ec0)\n",
      "\n",
      "QObject::moveToThread: Current thread (0x5556e1f09ec0) is not the object's thread (0x5556e1fa69d0).\n",
      "Cannot move to target thread (0x5556e1f09ec0)\n",
      "\n",
      "QObject::moveToThread: Current thread (0x5556e1f09ec0) is not the object's thread (0x5556e1fa69d0).\n",
      "Cannot move to target thread (0x5556e1f09ec0)\n",
      "\n",
      "QObject::moveToThread: Current thread (0x5556e1f09ec0) is not the object's thread (0x5556e1fa69d0).\n",
      "Cannot move to target thread (0x5556e1f09ec0)\n",
      "\n",
      "QObject::moveToThread: Current thread (0x5556e1f09ec0) is not the object's thread (0x5556e1fa69d0).\n",
      "Cannot move to target thread (0x5556e1f09ec0)\n",
      "\n",
      "QObject::moveToThread: Current thread (0x5556e1f09ec0) is not the object's thread (0x5556e1fa69d0).\n",
      "Cannot move to target thread (0x5556e1f09ec0)\n",
      "\n",
      "QObject::moveToThread: Current thread (0x5556e1f09ec0) is not the object's thread (0x5556e1fa69d0).\n",
      "Cannot move to target thread (0x5556e1f09ec0)\n",
      "\n",
      "QObject::moveToThread: Current thread (0x5556e1f09ec0) is not the object's thread (0x5556e1fa69d0).\n",
      "Cannot move to target thread (0x5556e1f09ec0)\n",
      "\n",
      "QObject::moveToThread: Current thread (0x5556e1f09ec0) is not the object's thread (0x5556e1fa69d0).\n",
      "Cannot move to target thread (0x5556e1f09ec0)\n",
      "\n",
      "QObject::moveToThread: Current thread (0x5556e1f09ec0) is not the object's thread (0x5556e1fa69d0).\n",
      "Cannot move to target thread (0x5556e1f09ec0)\n",
      "\n",
      "QObject::moveToThread: Current thread (0x5556e1f09ec0) is not the object's thread (0x5556e1fa69d0).\n",
      "Cannot move to target thread (0x5556e1f09ec0)\n",
      "\n",
      "QObject::moveToThread: Current thread (0x5556e1f09ec0) is not the object's thread (0x5556e1fa69d0).\n",
      "Cannot move to target thread (0x5556e1f09ec0)\n",
      "\n",
      "QObject::moveToThread: Current thread (0x5556e1f09ec0) is not the object's thread (0x5556e1fa69d0).\n",
      "Cannot move to target thread (0x5556e1f09ec0)\n",
      "\n",
      "QObject::moveToThread: Current thread (0x5556e1f09ec0) is not the object's thread (0x5556e1fa69d0).\n",
      "Cannot move to target thread (0x5556e1f09ec0)\n",
      "\n",
      "QObject::moveToThread: Current thread (0x5556e1f09ec0) is not the object's thread (0x5556e1fa69d0).\n",
      "Cannot move to target thread (0x5556e1f09ec0)\n",
      "\n",
      "QObject::moveToThread: Current thread (0x5556e1f09ec0) is not the object's thread (0x5556e1fa69d0).\n",
      "Cannot move to target thread (0x5556e1f09ec0)\n",
      "\n",
      "QObject::moveToThread: Current thread (0x5556e1f09ec0) is not the object's thread (0x5556e1fa69d0).\n",
      "Cannot move to target thread (0x5556e1f09ec0)\n",
      "\n",
      "QObject::moveToThread: Current thread (0x5556e1f09ec0) is not the object's thread (0x5556e1fa69d0).\n",
      "Cannot move to target thread (0x5556e1f09ec0)\n",
      "\n",
      "QObject::moveToThread: Current thread (0x5556e1f09ec0) is not the object's thread (0x5556e1fa69d0).\n",
      "Cannot move to target thread (0x5556e1f09ec0)\n",
      "\n",
      "QObject::moveToThread: Current thread (0x5556e1f09ec0) is not the object's thread (0x5556e1fa69d0).\n",
      "Cannot move to target thread (0x5556e1f09ec0)\n",
      "\n",
      "QObject::moveToThread: Current thread (0x5556e1f09ec0) is not the object's thread (0x5556e1fa69d0).\n",
      "Cannot move to target thread (0x5556e1f09ec0)\n",
      "\n",
      "QObject::moveToThread: Current thread (0x5556e1f09ec0) is not the object's thread (0x5556e1fa69d0).\n",
      "Cannot move to target thread (0x5556e1f09ec0)\n",
      "\n",
      "QObject::moveToThread: Current thread (0x5556e1f09ec0) is not the object's thread (0x5556e1fa69d0).\n",
      "Cannot move to target thread (0x5556e1f09ec0)\n",
      "\n",
      "QObject::moveToThread: Current thread (0x5556e1f09ec0) is not the object's thread (0x5556e1fa69d0).\n",
      "Cannot move to target thread (0x5556e1f09ec0)\n",
      "\n",
      "QObject::moveToThread: Current thread (0x5556e1f09ec0) is not the object's thread (0x5556e1fa69d0).\n",
      "Cannot move to target thread (0x5556e1f09ec0)\n",
      "\n",
      "QObject::moveToThread: Current thread (0x5556e1f09ec0) is not the object's thread (0x5556e1fa69d0).\n",
      "Cannot move to target thread (0x5556e1f09ec0)\n",
      "\n",
      "QObject::moveToThread: Current thread (0x5556e1f09ec0) is not the object's thread (0x5556e1fa69d0).\n",
      "Cannot move to target thread (0x5556e1f09ec0)\n",
      "\n",
      "QObject::moveToThread: Current thread (0x5556e1f09ec0) is not the object's thread (0x5556e1fa69d0).\n",
      "Cannot move to target thread (0x5556e1f09ec0)\n",
      "\n",
      "QObject::moveToThread: Current thread (0x5556e1f09ec0) is not the object's thread (0x5556e1fa69d0).\n",
      "Cannot move to target thread (0x5556e1f09ec0)\n",
      "\n",
      "QObject::moveToThread: Current thread (0x5556e1f09ec0) is not the object's thread (0x5556e1fa69d0).\n",
      "Cannot move to target thread (0x5556e1f09ec0)\n",
      "\n",
      "QObject::moveToThread: Current thread (0x5556e1f09ec0) is not the object's thread (0x5556e1fa69d0).\n",
      "Cannot move to target thread (0x5556e1f09ec0)\n",
      "\n",
      "QObject::moveToThread: Current thread (0x5556e1f09ec0) is not the object's thread (0x5556e1fa69d0).\n",
      "Cannot move to target thread (0x5556e1f09ec0)\n",
      "\n",
      "QObject::moveToThread: Current thread (0x5556e1f09ec0) is not the object's thread (0x5556e1fa69d0).\n",
      "Cannot move to target thread (0x5556e1f09ec0)\n",
      "\n",
      "QObject::moveToThread: Current thread (0x5556e1f09ec0) is not the object's thread (0x5556e1fa69d0).\n",
      "Cannot move to target thread (0x5556e1f09ec0)\n",
      "\n",
      "QObject::moveToThread: Current thread (0x5556e1f09ec0) is not the object's thread (0x5556e1fa69d0).\n",
      "Cannot move to target thread (0x5556e1f09ec0)\n",
      "\n",
      "QObject::moveToThread: Current thread (0x5556e1f09ec0) is not the object's thread (0x5556e1fa69d0).\n",
      "Cannot move to target thread (0x5556e1f09ec0)\n",
      "\n",
      "QObject::moveToThread: Current thread (0x5556e1f09ec0) is not the object's thread (0x5556e1fa69d0).\n",
      "Cannot move to target thread (0x5556e1f09ec0)\n",
      "\n",
      "QObject::moveToThread: Current thread (0x5556e1f09ec0) is not the object's thread (0x5556e1fa69d0).\n",
      "Cannot move to target thread (0x5556e1f09ec0)\n",
      "\n",
      "QObject::moveToThread: Current thread (0x5556e1f09ec0) is not the object's thread (0x5556e1fa69d0).\n",
      "Cannot move to target thread (0x5556e1f09ec0)\n",
      "\n",
      "QObject::moveToThread: Current thread (0x5556e1f09ec0) is not the object's thread (0x5556e1fa69d0).\n",
      "Cannot move to target thread (0x5556e1f09ec0)\n",
      "\n",
      "QObject::moveToThread: Current thread (0x5556e1f09ec0) is not the object's thread (0x5556e1fa69d0).\n",
      "Cannot move to target thread (0x5556e1f09ec0)\n",
      "\n",
      "QObject::moveToThread: Current thread (0x5556e1f09ec0) is not the object's thread (0x5556e1fa69d0).\n",
      "Cannot move to target thread (0x5556e1f09ec0)\n",
      "\n",
      "QObject::moveToThread: Current thread (0x5556e1f09ec0) is not the object's thread (0x5556e1fa69d0).\n",
      "Cannot move to target thread (0x5556e1f09ec0)\n",
      "\n",
      "QObject::moveToThread: Current thread (0x5556e1f09ec0) is not the object's thread (0x5556e1fa69d0).\n",
      "Cannot move to target thread (0x5556e1f09ec0)\n",
      "\n",
      "QObject::moveToThread: Current thread (0x5556e1f09ec0) is not the object's thread (0x5556e1fa69d0).\n",
      "Cannot move to target thread (0x5556e1f09ec0)\n",
      "\n",
      "QObject::moveToThread: Current thread (0x5556e1f09ec0) is not the object's thread (0x5556e1fa69d0).\n",
      "Cannot move to target thread (0x5556e1f09ec0)\n",
      "\n",
      "QObject::moveToThread: Current thread (0x5556e1f09ec0) is not the object's thread (0x5556e1fa69d0).\n",
      "Cannot move to target thread (0x5556e1f09ec0)\n",
      "\n",
      "QObject::moveToThread: Current thread (0x5556e1f09ec0) is not the object's thread (0x5556e1fa69d0).\n",
      "Cannot move to target thread (0x5556e1f09ec0)\n",
      "\n",
      "QObject::moveToThread: Current thread (0x5556e1f09ec0) is not the object's thread (0x5556e1fa69d0).\n",
      "Cannot move to target thread (0x5556e1f09ec0)\n",
      "\n",
      "QObject::moveToThread: Current thread (0x5556e1f09ec0) is not the object's thread (0x5556e1fa69d0).\n",
      "Cannot move to target thread (0x5556e1f09ec0)\n",
      "\n",
      "QObject::moveToThread: Current thread (0x5556e1f09ec0) is not the object's thread (0x5556e1fa69d0).\n",
      "Cannot move to target thread (0x5556e1f09ec0)\n",
      "\n",
      "QObject::moveToThread: Current thread (0x5556e1f09ec0) is not the object's thread (0x5556e1fa69d0).\n",
      "Cannot move to target thread (0x5556e1f09ec0)\n",
      "\n",
      "QObject::moveToThread: Current thread (0x5556e1f09ec0) is not the object's thread (0x5556e1fa69d0).\n",
      "Cannot move to target thread (0x5556e1f09ec0)\n",
      "\n",
      "QObject::moveToThread: Current thread (0x5556e1f09ec0) is not the object's thread (0x5556e1fa69d0).\n",
      "Cannot move to target thread (0x5556e1f09ec0)\n",
      "\n",
      "QObject::moveToThread: Current thread (0x5556e1f09ec0) is not the object's thread (0x5556e1fa69d0).\n",
      "Cannot move to target thread (0x5556e1f09ec0)\n",
      "\n",
      "QObject::moveToThread: Current thread (0x5556e1f09ec0) is not the object's thread (0x5556e1fa69d0).\n",
      "Cannot move to target thread (0x5556e1f09ec0)\n",
      "\n",
      "QObject::moveToThread: Current thread (0x5556e1f09ec0) is not the object's thread (0x5556e1fa69d0).\n",
      "Cannot move to target thread (0x5556e1f09ec0)\n",
      "\n",
      "QObject::moveToThread: Current thread (0x5556e1f09ec0) is not the object's thread (0x5556e1fa69d0).\n",
      "Cannot move to target thread (0x5556e1f09ec0)\n",
      "\n",
      "QObject::moveToThread: Current thread (0x5556e1f09ec0) is not the object's thread (0x5556e1fa69d0).\n",
      "Cannot move to target thread (0x5556e1f09ec0)\n",
      "\n",
      "QObject::moveToThread: Current thread (0x5556e1f09ec0) is not the object's thread (0x5556e1fa69d0).\n",
      "Cannot move to target thread (0x5556e1f09ec0)\n",
      "\n",
      "QObject::moveToThread: Current thread (0x5556e1f09ec0) is not the object's thread (0x5556e1fa69d0).\n",
      "Cannot move to target thread (0x5556e1f09ec0)\n",
      "\n",
      "QObject::moveToThread: Current thread (0x5556e1f09ec0) is not the object's thread (0x5556e1fa69d0).\n",
      "Cannot move to target thread (0x5556e1f09ec0)\n",
      "\n",
      "QObject::moveToThread: Current thread (0x5556e1f09ec0) is not the object's thread (0x5556e1fa69d0).\n",
      "Cannot move to target thread (0x5556e1f09ec0)\n",
      "\n",
      "QObject::moveToThread: Current thread (0x5556e1f09ec0) is not the object's thread (0x5556e1fa69d0).\n",
      "Cannot move to target thread (0x5556e1f09ec0)\n",
      "\n",
      "QObject::moveToThread: Current thread (0x5556e1f09ec0) is not the object's thread (0x5556e1fa69d0).\n",
      "Cannot move to target thread (0x5556e1f09ec0)\n",
      "\n",
      "QObject::moveToThread: Current thread (0x5556e1f09ec0) is not the object's thread (0x5556e1fa69d0).\n",
      "Cannot move to target thread (0x5556e1f09ec0)\n",
      "\n",
      "QObject::moveToThread: Current thread (0x5556e1f09ec0) is not the object's thread (0x5556e1fa69d0).\n",
      "Cannot move to target thread (0x5556e1f09ec0)\n",
      "\n",
      "QObject::moveToThread: Current thread (0x5556e1f09ec0) is not the object's thread (0x5556e1fa69d0).\n",
      "Cannot move to target thread (0x5556e1f09ec0)\n",
      "\n",
      "QObject::moveToThread: Current thread (0x5556e1f09ec0) is not the object's thread (0x5556e1fa69d0).\n",
      "Cannot move to target thread (0x5556e1f09ec0)\n",
      "\n",
      "QObject::moveToThread: Current thread (0x5556e1f09ec0) is not the object's thread (0x5556e1fa69d0).\n",
      "Cannot move to target thread (0x5556e1f09ec0)\n",
      "\n",
      "QObject::moveToThread: Current thread (0x5556e1f09ec0) is not the object's thread (0x5556e1fa69d0).\n",
      "Cannot move to target thread (0x5556e1f09ec0)\n",
      "\n",
      "QObject::moveToThread: Current thread (0x5556e1f09ec0) is not the object's thread (0x5556e1fa69d0).\n",
      "Cannot move to target thread (0x5556e1f09ec0)\n",
      "\n",
      "QObject::moveToThread: Current thread (0x5556e1f09ec0) is not the object's thread (0x5556e1fa69d0).\n",
      "Cannot move to target thread (0x5556e1f09ec0)\n",
      "\n"
     ]
    },
    {
     "ename": "NameError",
     "evalue": "name 'n' is not defined",
     "output_type": "error",
     "traceback": [
      "\u001b[0;31m---------------------------------------------------------------------------\u001b[0m",
      "\u001b[0;31mNameError\u001b[0m                                 Traceback (most recent call last)",
      "\u001b[0;32m/tmp/ipykernel_428555/3858807090.py\u001b[0m in \u001b[0;36m<module>\u001b[0;34m\u001b[0m\n\u001b[1;32m      6\u001b[0m \u001b[0morg\u001b[0m \u001b[0;34m=\u001b[0m \u001b[0mnp\u001b[0m\u001b[0;34m.\u001b[0m\u001b[0mload\u001b[0m\u001b[0;34m(\u001b[0m\u001b[0;34m\"/home/akshay/bag/range_64/1000.041622004.npy\"\u001b[0m\u001b[0;34m)\u001b[0m\u001b[0;34m\u001b[0m\u001b[0;34m\u001b[0m\u001b[0m\n\u001b[1;32m      7\u001b[0m \u001b[0morg\u001b[0m \u001b[0;34m*=\u001b[0m \u001b[0;36m100\u001b[0m\u001b[0;34m\u001b[0m\u001b[0;34m\u001b[0m\u001b[0m\n\u001b[0;32m----> 8\u001b[0;31m \u001b[0morg\u001b[0m \u001b[0;34m=\u001b[0m \u001b[0mn\u001b[0m\u001b[0;34m.\u001b[0m\u001b[0muint8\u001b[0m\u001b[0;34m(\u001b[0m\u001b[0morg\u001b[0m\u001b[0;34m)\u001b[0m\u001b[0;34m\u001b[0m\u001b[0;34m\u001b[0m\u001b[0m\n\u001b[0m\u001b[1;32m      9\u001b[0m \u001b[0mcv2\u001b[0m\u001b[0;34m.\u001b[0m\u001b[0mimshow\u001b[0m\u001b[0;34m(\u001b[0m\u001b[0;34m\"a\"\u001b[0m\u001b[0;34m,\u001b[0m \u001b[0morg\u001b[0m\u001b[0;34m)\u001b[0m\u001b[0;34m\u001b[0m\u001b[0;34m\u001b[0m\u001b[0m\n\u001b[1;32m     10\u001b[0m \u001b[0mcv2\u001b[0m\u001b[0;34m.\u001b[0m\u001b[0mwaitKey\u001b[0m\u001b[0;34m(\u001b[0m\u001b[0;36m0\u001b[0m\u001b[0;34m)\u001b[0m\u001b[0;34m\u001b[0m\u001b[0;34m\u001b[0m\u001b[0m\n",
      "\u001b[0;31mNameError\u001b[0m: name 'n' is not defined"
     ]
    }
   ],
   "source": [
    "x = np.load(\"/home/akshay/bag/range_16/1000.041622004.npy\")\n",
    "x *= 100\n",
    "x = np.uint8(x)\n",
    "cv2.imshow(\"j\", x)\n",
    "y = np.load(\"/home/akshay/bag/bev_16_np/1000.041622004.npy\")\n",
    "org = np.load(\"/home/akshay/bag/range_64/1000.041622004.npy\")\n",
    "org *= 100\n",
    "org = n.uint8(org)\n",
    "cv2.imshow(\"a\", org)\n",
    "cv2.waitKey(0)"
   ]
  },
  {
   "cell_type": "code",
   "execution_count": 1,
   "id": "fc96a595",
   "metadata": {},
   "outputs": [],
   "source": [
    "import torch\n",
    "from chamferdist import ChamferDistance"
   ]
  },
  {
   "cell_type": "code",
   "execution_count": null,
   "id": "d992e14f",
   "metadata": {},
   "outputs": [],
   "source": [
    "cd = ChamferDistance()\n",
    "x = torch.randn((1, 3, 100)).cuda()\n",
    "y = torch.randn((1, 3, 109)).cuda()\n",
    "dist = cd(x, y)\n",
    "print(dist)"
   ]
  },
  {
   "cell_type": "code",
   "execution_count": 17,
   "id": "e8cfbb74",
   "metadata": {},
   "outputs": [],
   "source": [
    "from pytorch3d.loss import chamfer_distance\n",
    "import torch\n",
    "x = torch.randn((8, 128000, 3), requires_grad=True).cuda()\n",
    "y = torch.randn((8, 120000, 3), requires_grad=True).cuda()"
   ]
  },
  {
   "cell_type": "code",
   "execution_count": 18,
   "id": "f51745f5",
   "metadata": {},
   "outputs": [],
   "source": [
    "loss = chamfer_distance(x, y)[0]"
   ]
  },
  {
   "cell_type": "code",
   "execution_count": 19,
   "id": "969aaec5",
   "metadata": {},
   "outputs": [
    {
     "data": {
      "text/plain": [
       "tensor(0.0083, device='cuda:0', grad_fn=<AddBackward0>)"
      ]
     },
     "execution_count": 19,
     "metadata": {},
     "output_type": "execute_result"
    }
   ],
   "source": [
    "loss"
   ]
  },
  {
   "cell_type": "code",
   "execution_count": 11,
   "id": "d986bc84",
   "metadata": {},
   "outputs": [],
   "source": [
    "loss.backward()"
   ]
  },
  {
   "cell_type": "code",
   "execution_count": 21,
   "id": "da54ea0e",
   "metadata": {},
   "outputs": [
    {
     "ename": "NameError",
     "evalue": "name 'Tensor' is not defined",
     "output_type": "error",
     "traceback": [
      "\u001b[0;31m---------------------------------------------------------------------------\u001b[0m",
      "\u001b[0;31mNameError\u001b[0m                                 Traceback (most recent call last)",
      "\u001b[1;32m/home/ubuntu/Super-Resolution/test.ipynb Cell 22'\u001b[0m in \u001b[0;36m<cell line: 1>\u001b[0;34m()\u001b[0m\n\u001b[0;32m----> <a href='vscode-notebook-cell://ssh-remote%2Baws-ec2/home/ubuntu/Super-Resolution/test.ipynb#ch0000021vscode-remote?line=0'>1</a>\u001b[0m \u001b[39mif\u001b[39;00m \u001b[39misinstance\u001b[39m(x, Tensor):\n\u001b[1;32m      <a href='vscode-notebook-cell://ssh-remote%2Baws-ec2/home/ubuntu/Super-Resolution/test.ipynb#ch0000021vscode-remote?line=1'>2</a>\u001b[0m     \u001b[39mprint\u001b[39m(\u001b[39m\"\u001b[39m\u001b[39mhi\u001b[39m\u001b[39m\"\u001b[39m)\n",
      "\u001b[0;31mNameError\u001b[0m: name 'Tensor' is not defined"
     ]
    }
   ],
   "source": [
    "if isinstance(x, Tensor):\n",
    "    print(\"hi\")"
   ]
  },
  {
   "cell_type": "code",
   "execution_count": 26,
   "id": "8247e9d9",
   "metadata": {},
   "outputs": [
    {
     "data": {
      "text/plain": [
       "tensor([[   0],\n",
       "        [   1],\n",
       "        [   2],\n",
       "        [   3],\n",
       "        [   4],\n",
       "        [   5],\n",
       "        [-133],\n",
       "        [-133],\n",
       "        [-133],\n",
       "        [-133]])"
      ]
     },
     "execution_count": 26,
     "metadata": {},
     "output_type": "execute_result"
    }
   ],
   "source": [
    "x = torch.arange(0, 10).reshape(-1, 1)\n",
    "x[x >5] = -133\n",
    "x"
   ]
  },
  {
   "cell_type": "code",
   "execution_count": 27,
   "id": "f30b053c",
   "metadata": {},
   "outputs": [
    {
     "data": {
      "text/plain": [
       "tensor([0, 1, 2, 3, 4, 5])"
      ]
     },
     "execution_count": 27,
     "metadata": {},
     "output_type": "execute_result"
    }
   ],
   "source": [
    "x = x[torch.where(x != -133)]\n",
    "x"
   ]
  },
  {
   "cell_type": "code",
   "execution_count": 32,
   "id": "dbe3eb5b",
   "metadata": {},
   "outputs": [
    {
     "data": {
      "text/plain": [
       "(tensor([[3, 0, 4, 0, 2],\n",
       "         [2, 0, 1, 0, 1]]),\n",
       " tensor([1, 1, 3, 4, 4]),\n",
       " tensor([[ 3,  0, 12,  0,  8],\n",
       "         [ 2,  0,  3,  0,  4]]))"
      ]
     },
     "execution_count": 32,
     "metadata": {},
     "output_type": "execute_result"
    }
   ],
   "source": [
    "x = torch.randint(0, 5, size=(2, 5))\n",
    "y = torch.randint(0, 5, size=(5,))\n",
    "x, y, x*y"
   ]
  },
  {
   "cell_type": "code",
   "execution_count": 1,
   "id": "3852567f",
   "metadata": {},
   "outputs": [],
   "source": [
    "from MyDataLoader import MyDatasetChamferDistance"
   ]
  },
  {
   "cell_type": "code",
   "execution_count": null,
   "id": "38a81675",
   "metadata": {},
   "outputs": [],
   "source": [
    "dataset = MyDatasetChamferDistance()"
   ]
  }
 ],
 "metadata": {
  "interpreter": {
   "hash": "25e51f0b4726ece1ea944612e9e120ba2af65e9ae9d80ae5bc22d7939e16735d"
  },
  "kernelspec": {
   "display_name": "Python 3.9.7 ('torch')",
   "language": "python",
   "name": "python3"
  },
  "language_info": {
   "codemirror_mode": {
    "name": "ipython",
    "version": 3
   },
   "file_extension": ".py",
   "mimetype": "text/x-python",
   "name": "python",
   "nbconvert_exporter": "python",
   "pygments_lexer": "ipython3",
   "version": "3.9.7"
  }
 },
 "nbformat": 4,
 "nbformat_minor": 5
}
