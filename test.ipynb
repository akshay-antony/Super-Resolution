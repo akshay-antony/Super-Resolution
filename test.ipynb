{
 "cells": [
  {
   "cell_type": "code",
   "execution_count": 1,
   "id": "1f2be3c4",
   "metadata": {},
   "outputs": [
    {
     "name": "stdout",
     "output_type": "stream",
     "text": [
      "Jupyter environment detected. Enabling Open3D WebVisualizer.\n",
      "[Open3D INFO] WebRTC GUI backend enabled.\n",
      "[Open3D INFO] WebRTCWindowSystem: HTTP handshake server disabled.\n"
     ]
    }
   ],
   "source": [
    "%load_ext autoreload\n",
    "%autoreload 2\n",
    "from MyDataLoader import OusterLidar\n",
    "dataset = OusterLidar()"
   ]
  },
  {
   "cell_type": "code",
   "execution_count": 2,
   "id": "f7905f9e",
   "metadata": {},
   "outputs": [],
   "source": [
    "from torch.utils.data import DataLoader"
   ]
  },
  {
   "cell_type": "code",
   "execution_count": 3,
   "id": "9c17893a",
   "metadata": {},
   "outputs": [
    {
     "name": "stdout",
     "output_type": "stream",
     "text": [
      "torch.Size([8, 1, 16, 1024]) torch.Size([8, 65536, 3])\n"
     ]
    }
   ],
   "source": [
    "train_loader = DataLoader(dataset, batch_size=8)\n",
    "for data in train_loader:\n",
    "    input_image = data['range_16']\n",
    "    pcd = data[\"pcd_64\"]\n",
    "    print(input_image.shape, pcd.shape)\n",
    "    break"
   ]
  },
  {
   "cell_type": "code",
   "execution_count": 2,
   "id": "b55fd4d8",
   "metadata": {},
   "outputs": [],
   "source": [
    "import numpy as np\n",
    "import os\n",
    "import random"
   ]
  },
  {
   "cell_type": "code",
   "execution_count": 4,
   "id": "c720e29a",
   "metadata": {},
   "outputs": [],
   "source": [
    "high_res_data = np.load(\"./bag/carla_ouster_range_image.npy\")"
   ]
  },
  {
   "cell_type": "code",
   "execution_count": 6,
   "id": "867e32bd",
   "metadata": {},
   "outputs": [],
   "source": [
    "indices = np.arange(high_res_data.shape[0])\n",
    "random_indices = random.sample(indices.tolist(), int(0.8 * indices.shape[0]))"
   ]
  },
  {
   "cell_type": "code",
   "execution_count": 1,
   "id": "ee42275d",
   "metadata": {},
   "outputs": [
    {
     "name": "stdout",
     "output_type": "stream",
     "text": [
      "Jupyter environment detected. Enabling Open3D WebVisualizer.\n",
      "[Open3D INFO] WebRTC GUI backend enabled.\n",
      "[Open3D INFO] WebRTCWindowSystem: HTTP handshake server disabled.\n"
     ]
    }
   ],
   "source": [
    "from MyDataLoader import OusterLidar"
   ]
  },
  {
   "cell_type": "code",
   "execution_count": 2,
   "id": "63da1284",
   "metadata": {},
   "outputs": [
    {
     "name": "stdout",
     "output_type": "stream",
     "text": [
      "Train Dataset\n",
      "Found:  4800 files \n",
      "Test Dataset\n",
      "Found:  1200 files \n"
     ]
    }
   ],
   "source": [
    "dataset = OusterLidar(is_train=True)\n",
    "dataset2 = OusterLidar(is_train=False)"
   ]
  },
  {
   "cell_type": "code",
   "execution_count": null,
   "id": "a69237bd",
   "metadata": {},
   "outputs": [],
   "source": []
  }
 ],
 "metadata": {
  "interpreter": {
   "hash": "fbb2a6c825ec7b797af92debc6732d23106709ea20bcb1437d5c21567d950ff0"
  },
  "kernelspec": {
   "display_name": "Python 3.8.13 ('super_res')",
   "language": "python",
   "name": "python3"
  },
  "language_info": {
   "codemirror_mode": {
    "name": "ipython",
    "version": 3
   },
   "file_extension": ".py",
   "mimetype": "text/x-python",
   "name": "python",
   "nbconvert_exporter": "python",
   "pygments_lexer": "ipython3",
   "version": "3.8.13"
  }
 },
 "nbformat": 4,
 "nbformat_minor": 5
}
