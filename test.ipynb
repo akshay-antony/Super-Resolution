{
 "cells": [
  {
   "cell_type": "code",
   "execution_count": 1,
   "id": "1f2be3c4",
   "metadata": {},
   "outputs": [
    {
     "name": "stdout",
     "output_type": "stream",
     "text": [
      "Jupyter environment detected. Enabling Open3D WebVisualizer.\n",
      "[Open3D INFO] WebRTC GUI backend enabled.\n",
      "[Open3D INFO] WebRTCWindowSystem: HTTP handshake server disabled.\n"
     ]
    }
   ],
   "source": [
    "%load_ext autoreload\n",
    "%autoreload 2\n",
    "from MyDataLoader import OusterLidar\n",
    "dataset = OusterLidar()"
   ]
  },
  {
   "cell_type": "code",
   "execution_count": 2,
   "id": "f7905f9e",
   "metadata": {},
   "outputs": [],
   "source": [
    "from torch.utils.data import DataLoader"
   ]
  },
  {
   "cell_type": "code",
   "execution_count": 3,
   "id": "9c17893a",
   "metadata": {},
   "outputs": [
    {
     "name": "stdout",
     "output_type": "stream",
     "text": [
      "torch.Size([8, 1, 16, 1024]) torch.Size([8, 65536, 3])\n"
     ]
    }
   ],
   "source": [
    "train_loader = DataLoader(dataset, batch_size=8)\n",
    "for data in train_loader:\n",
    "    input_image = data['range_16']\n",
    "    pcd = data[\"pcd_64\"]\n",
    "    print(input_image.shape, pcd.shape)\n",
    "    break"
   ]
  },
  {
   "cell_type": "code",
   "execution_count": 2,
   "id": "b55fd4d8",
   "metadata": {},
   "outputs": [],
   "source": [
    "import numpy as np\n",
    "import os\n",
    "import random"
   ]
  },
  {
   "cell_type": "code",
   "execution_count": 4,
   "id": "c720e29a",
   "metadata": {},
   "outputs": [],
   "source": [
    "high_res_data = np.load(\"./bag/carla_ouster_range_image.npy\")"
   ]
  },
  {
   "cell_type": "code",
   "execution_count": 6,
   "id": "867e32bd",
   "metadata": {},
   "outputs": [],
   "source": [
    "indices = np.arange(high_res_data.shape[0])\n",
    "random_indices = random.sample(indices.tolist(), int(0.8 * indices.shape[0]))"
   ]
  },
  {
   "cell_type": "code",
   "execution_count": 1,
   "id": "ee42275d",
   "metadata": {},
   "outputs": [
    {
     "name": "stdout",
     "output_type": "stream",
     "text": [
      "Jupyter environment detected. Enabling Open3D WebVisualizer.\n",
      "[Open3D INFO] WebRTC GUI backend enabled.\n",
      "[Open3D INFO] WebRTCWindowSystem: HTTP handshake server disabled.\n"
     ]
    }
   ],
   "source": [
    "from MyDataLoader import OusterLidar"
   ]
  },
  {
   "cell_type": "code",
   "execution_count": 2,
   "id": "63da1284",
   "metadata": {},
   "outputs": [
    {
     "name": "stdout",
     "output_type": "stream",
     "text": [
      "Train Dataset\n",
      "Found:  4800 files \n",
      "Test Dataset\n",
      "Found:  1200 files \n"
     ]
    }
   ],
   "source": [
    "dataset = OusterLidar(is_train=True)\n",
    "dataset2 = OusterLidar(is_train=False)"
   ]
  },
  {
   "cell_type": "code",
   "execution_count": 1,
   "id": "a69237bd",
   "metadata": {},
   "outputs": [],
   "source": [
    "from range_to_pcd import RangeToPCD\n",
    "from model_chamfer import Model\n",
    "obj = RangeToPCD(16)\n",
    "model = Model(is_pointnet=True,\n",
    "              A=obj.azimuth_image,\n",
    "              E=obj.elevation_image)\n",
    "model = model.cuda()"
   ]
  },
  {
   "cell_type": "code",
   "execution_count": 2,
   "id": "dec375b4",
   "metadata": {},
   "outputs": [],
   "source": [
    "import torch\n",
    "x = torch.rand((1, 1, 16, 1024)).cuda()\n",
    "y = model(x)"
   ]
  },
  {
   "cell_type": "code",
   "execution_count": 3,
   "id": "90a32b19",
   "metadata": {},
   "outputs": [
    {
     "data": {
      "text/plain": [
       "torch.Size([1, 1, 64, 1024])"
      ]
     },
     "execution_count": 3,
     "metadata": {},
     "output_type": "execute_result"
    },
    {
     "ename": "",
     "evalue": "",
     "output_type": "error",
     "traceback": [
      "\u001b[1;31mThe Kernel crashed while executing code in the the current cell or a previous cell. Please review the code in the cell(s) to identify a possible cause of the failure. Click <a href='https://aka.ms/vscodeJupyterKernelCrash'>here</a> for more info. View Jupyter <a href='command:jupyter.viewOutput'>log</a> for further details."
     ]
    }
   ],
   "source": [
    "y.shape"
   ]
  },
  {
   "cell_type": "code",
   "execution_count": 6,
   "id": "fa05a595",
   "metadata": {},
   "outputs": [
    {
     "data": {
      "text/plain": [
       "tensor([2, 5, 7, 0, 5, 7, 9, 6, 4, 1])"
      ]
     },
     "execution_count": 6,
     "metadata": {},
     "output_type": "execute_result"
    }
   ],
   "source": [
    "import torch\n",
    "x = torch.randint(0, 10, (10,))\n",
    "x"
   ]
  },
  {
   "cell_type": "code",
   "execution_count": 7,
   "id": "1635dad4",
   "metadata": {},
   "outputs": [
    {
     "data": {
      "text/plain": [
       "tensor([0, 0, 1, 1, 0, 1, 1, 1, 0, 0])"
      ]
     },
     "execution_count": 7,
     "metadata": {},
     "output_type": "execute_result"
    }
   ],
   "source": [
    "y = torch.zeros_like(x)\n",
    "y[x < 1] = 1\n",
    "y[x > 5] = 1\n",
    "y "
   ]
  },
  {
   "cell_type": "code",
   "execution_count": null,
   "id": "de13cf92",
   "metadata": {},
   "outputs": [],
   "source": []
  }
 ],
 "metadata": {
  "interpreter": {
   "hash": "fbb2a6c825ec7b797af92debc6732d23106709ea20bcb1437d5c21567d950ff0"
  },
  "kernelspec": {
   "display_name": "Python 3.8.13 ('super_res')",
   "language": "python",
   "name": "python3"
  },
  "language_info": {
   "codemirror_mode": {
    "name": "ipython",
    "version": 3
   },
   "file_extension": ".py",
   "mimetype": "text/x-python",
   "name": "python",
   "nbconvert_exporter": "python",
   "pygments_lexer": "ipython3",
   "version": "3.8.13"
  }
 },
 "nbformat": 4,
 "nbformat_minor": 5
}
